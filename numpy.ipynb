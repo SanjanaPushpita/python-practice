{
  "nbformat": 4,
  "nbformat_minor": 0,
  "metadata": {
    "colab": {
      "provenance": [],
      "authorship_tag": "ABX9TyMVtWQ6Fobt9eywoVeUe1f5",
      "include_colab_link": true
    },
    "kernelspec": {
      "name": "python3",
      "display_name": "Python 3"
    },
    "language_info": {
      "name": "python"
    }
  },
  "cells": [
    {
      "cell_type": "markdown",
      "metadata": {
        "id": "view-in-github",
        "colab_type": "text"
      },
      "source": [
        "<a href=\"https://colab.research.google.com/github/SanjanaPushpita/python-practice/blob/main/numpy.ipynb\" target=\"_parent\"><img src=\"https://colab.research.google.com/assets/colab-badge.svg\" alt=\"Open In Colab\"/></a>"
      ]
    },
    {
      "cell_type": "code",
      "source": [
        "# Import the math package\n",
        "import math\n",
        "\n",
        "# Calculate C\n",
        "C = 2 * 0.43 * math.pi\n",
        "\n",
        "# Calculate A\n",
        "A = math.pi * 0.43 ** 2\n",
        "\n",
        "print(\"Circumference: \" + str(C))\n",
        "print(\"Area: \" + str(A))"
      ],
      "metadata": {
        "colab": {
          "base_uri": "https://localhost:8080/"
        },
        "id": "R4MB-xJO6Ms_",
        "outputId": "c7caffd5-8cdc-4c0d-cba4-9bf89517f357"
      },
      "execution_count": null,
      "outputs": [
        {
          "output_type": "stream",
          "name": "stdout",
          "text": [
            "Circumference: 2.701769682087222\n",
            "Area: 0.5808804816487527\n"
          ]
        }
      ]
    },
    {
      "cell_type": "code",
      "source": [
        "# Import the numpy package as np\n",
        "import numpy as np\n",
        "\n",
        "baseball = [180, 215, 210, 210, 188, 176, 209, 200]\n",
        "\n",
        "# Create a numpy array from baseball: np_baseball\n",
        "np_baseball = np.array(baseball)\n",
        "\n",
        "# Print out type of np_baseball\n",
        "print(np_baseball)"
      ],
      "metadata": {
        "colab": {
          "base_uri": "https://localhost:8080/"
        },
        "id": "BOJIvxDnBROJ",
        "outputId": "1019934e-b5fe-4980-bc17-7057fc8c5540"
      },
      "execution_count": null,
      "outputs": [
        {
          "output_type": "stream",
          "name": "stdout",
          "text": [
            "[180 215 210 210 188 176 209 200]\n"
          ]
        }
      ]
    },
    {
      "cell_type": "code",
      "source": [
        "# Import numpy\n",
        "import numpy as np\n",
        "height_in = np.array([74, 74, 72, 72, 73, 69, 69, 71, 76, 71])\n",
        "# Create a numpy array from height_in: np_height_in\n",
        "np_height_in = np.array(height_in)\n",
        "\n",
        "# Print out np_height_in\n",
        "print(np_height_in)\n",
        "\n",
        "# Convert np_height_in to m: np_height_m\n",
        "np_height_m = np_height_in * 0.0254\n",
        "\n",
        "# Print np_height_m\n",
        "print(np_height_m)"
      ],
      "metadata": {
        "colab": {
          "base_uri": "https://localhost:8080/"
        },
        "id": "bu5t62yWBxS5",
        "outputId": "f51fc281-bd06-4b85-b247-91969cbebc57"
      },
      "execution_count": null,
      "outputs": [
        {
          "output_type": "stream",
          "name": "stdout",
          "text": [
            "[74 74 72 72 73 69 69 71 76 71]\n",
            "[1.8796 1.8796 1.8288 1.8288 1.8542 1.7526 1.7526 1.8034 1.9304 1.8034]\n"
          ]
        }
      ]
    },
    {
      "cell_type": "code",
      "source": [
        "import numpy as np\n",
        "\n",
        "baseball = [[180, 78.4],\n",
        "            [215, 102.7],\n",
        "            [210, 98.5],\n",
        "            [188, 75.2]]\n",
        "\n",
        "# Create a 2D numpy array from baseball: np_baseball\n",
        "np_baseball = np.array(baseball)\n",
        "\n",
        "# Print out the type of np_baseball\n",
        "print(np_baseball)\n",
        "\n",
        "# Print out the shape of np_baseball\n",
        "np.shape(np_baseball)"
      ],
      "metadata": {
        "colab": {
          "base_uri": "https://localhost:8080/"
        },
        "id": "IorPymI4F0XB",
        "outputId": "d66e3b4a-fb59-4e74-edfe-69c5967f2518"
      },
      "execution_count": 6,
      "outputs": [
        {
          "output_type": "stream",
          "name": "stdout",
          "text": [
            "[[180.   78.4]\n",
            " [215.  102.7]\n",
            " [210.   98.5]\n",
            " [188.   75.2]]\n"
          ]
        },
        {
          "output_type": "execute_result",
          "data": {
            "text/plain": [
              "(4, 2)"
            ]
          },
          "metadata": {},
          "execution_count": 6
        }
      ]
    },
    {
      "cell_type": "code",
      "source": [
        "import numpy as np\n",
        "\n",
        "# Create np_height_in from np_baseball\n",
        "np_height_in = np.array(np_baseball[:,0]) #Create numpy array np_height_in that is equal to first column of np_baseball.\n",
        "\n",
        "# Print out the mean of np_height_in\n",
        "print(np.mean(np_height_in))\n",
        "\n",
        "# Print out the median of np_height_in\n",
        "print(np.median(np_height_in))\n"
      ],
      "metadata": {
        "id": "0qZrKzAXUiK4"
      },
      "execution_count": null,
      "outputs": []
    },
    {
      "cell_type": "code",
      "source": [
        "avg = np.mean(np_baseball[:, 0])\n",
        "print(\"Average: \" + str(avg))\n",
        "\n",
        "# Print median height\n",
        "med = np.median(np_baseball[:, 0])\n",
        "print(\"Median: \" + str(med))\n",
        "\n",
        "# Print out the standard deviation on height\n",
        "stddev = np.std(np_baseball[:, 0])\n",
        "print(\"Standard Deviation: \" + str(stddev))\n",
        "\n",
        "# Print out correlation between first and second column\n",
        "corr = np.corrcoef(np_baseball[:, 0], np_baseball[:, 1])\n",
        "print(\"Correlation: \" + str(corr))"
      ],
      "metadata": {
        "id": "N7aJfpWnVgCe"
      },
      "execution_count": null,
      "outputs": []
    }
  ]
}