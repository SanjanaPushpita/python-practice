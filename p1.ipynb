{
  "nbformat": 4,
  "nbformat_minor": 0,
  "metadata": {
    "colab": {
      "provenance": []
    },
    "kernelspec": {
      "name": "python3",
      "display_name": "Python 3"
    },
    "language_info": {
      "name": "python"
    }
  },
  "cells": [
    {
      "cell_type": "code",
      "execution_count": null,
      "metadata": {
        "id": "m-AOpzeYvKOD",
        "colab": {
          "base_uri": "https://localhost:8080/"
        },
        "outputId": "3578592b-8fcd-4845-bb55-8cd428ec4538"
      },
      "outputs": [
        {
          "output_type": "stream",
          "name": "stdout",
          "text": [
            "1728.1\n",
            "rent 1220\n"
          ]
        }
      ],
      "source": [
        "#variable\n",
        "rent=1220\n",
        "gas=202.5\n",
        "groceries=305.6\n",
        "\n",
        "print(rent+gas+groceries)\n",
        "print(\"rent\", rent)"
      ]
    },
    {
      "cell_type": "code",
      "source": [
        "print(2**5)# 2^5\n",
        "print(11%2)# vagsesh ber kore"
      ],
      "metadata": {
        "colab": {
          "base_uri": "https://localhost:8080/"
        },
        "id": "o-jwtRxtiAAs",
        "outputId": "69210b25-1e50-41bb-a117-2fb75baad2c8"
      },
      "execution_count": null,
      "outputs": [
        {
          "output_type": "stream",
          "name": "stdout",
          "text": [
            "32\n",
            "1\n"
          ]
        }
      ]
    },
    {
      "cell_type": "code",
      "source": [
        "nyc_1=100\n",
        "pitt=200\n",
        "total = nyc_1 + pitt\n",
        "print(total)\n",
        "\n",
        "mph = 65\n",
        "time = total / mph\n",
        "print(time)\n",
        "round(time,2)\n",
        "6-5.7"
      ],
      "metadata": {
        "colab": {
          "base_uri": "https://localhost:8080/"
        },
        "id": "FgguCxUiic_e",
        "outputId": "4a741145-f3fb-43e3-934f-651e885db01b"
      },
      "execution_count": null,
      "outputs": [
        {
          "output_type": "stream",
          "name": "stdout",
          "text": [
            "300\n",
            "4.615384615384615\n"
          ]
        },
        {
          "output_type": "execute_result",
          "data": {
            "text/plain": [
              "0.2999999999999998"
            ]
          },
          "metadata": {},
          "execution_count": 12
        }
      ]
    },
    {
      "cell_type": "code",
      "source": [
        "text = \"ice cream\"\n",
        "text.upper()\n",
        "text.capitalize()\n",
        "text.replace(\"ice cream\", \"chocolate\")\n",
        "text[1:5]\n",
        "\n",
        "s = \"hey there\"\n",
        "s+str(12)\n",
        "\n",
        "item=['a','b', 'c']\n",
        "print(item)\n",
        "item.append('d')\n",
        "print(item)"
      ],
      "metadata": {
        "colab": {
          "base_uri": "https://localhost:8080/"
        },
        "id": "q5H17FFXlrkB",
        "outputId": "5f56484c-6ad3-48e8-ead6-fa22e36c7754"
      },
      "execution_count": null,
      "outputs": [
        {
          "output_type": "stream",
          "name": "stdout",
          "text": [
            "['a', 'b', 'c']\n",
            "['a', 'b', 'c', 'd']\n"
          ]
        }
      ]
    },
    {
      "cell_type": "code",
      "source": [
        "num = input(\"Enter a num: \")\n",
        "num = int(num)\n",
        "if num%2 == 0:\n",
        "    print(\"even\")\n",
        "else:\n",
        "    print(\"odd\")\n",
        "\n",
        "\n"
      ],
      "metadata": {
        "colab": {
          "base_uri": "https://localhost:8080/"
        },
        "id": "ZoJXMEh9dVaC",
        "outputId": "ab87f491-6289-4274-bf53-8bdd8e0be0d6"
      },
      "execution_count": null,
      "outputs": [
        {
          "output_type": "stream",
          "name": "stdout",
          "text": [
            "Enter a num: 2\n",
            "even\n"
          ]
        }
      ]
    },
    {
      "cell_type": "code",
      "source": [
        "indian=['samosa','daal','naan']\n",
        "chinese=['egg roll','pot sticker','fried rice']\n",
        "italian=['pizza','pasta','risotto']\n",
        "dish= input(\"Enter the dish: \")\n",
        "if dish in indian: #in means -belongs to\n",
        "    print(\"indian\")\n",
        "elif dish in chinese:\n",
        "    print(\"chinese\")\n",
        "elif dish in italian:\n",
        "    print(\"italian\")\n",
        "else:\n",
        "    print(\"dish not found\")\n"
      ],
      "metadata": {
        "colab": {
          "base_uri": "https://localhost:8080/"
        },
        "id": "H_4eFbMYe-Vv",
        "outputId": "6dd4c458-557a-40a8-dc11-86721a22571b"
      },
      "execution_count": null,
      "outputs": [
        {
          "output_type": "stream",
          "name": "stdout",
          "text": [
            "Enter the dish: pizza\n",
            "italian\n"
          ]
        }
      ]
    },
    {
      "cell_type": "code",
      "source": [
        " #store monthly expenses in a list and find out total expenses for all months\n",
        "exp = [2340, 2500, 2100, 3100, 2980]\n",
        "total = 0;\n",
        "# total = exp[0] + exp[1] + exp[2] + exp[3] + exp[4]\n",
        "# print(total)\n",
        "\n",
        "# for i in exp:\n",
        "#   total = total + i\n",
        "# print(total)\n"
      ],
      "metadata": {
        "colab": {
          "base_uri": "https://localhost:8080/"
        },
        "id": "YTnaRpf3fnCu",
        "outputId": "f4090cdc-f3ad-4510-b589-ad67afb90825"
      },
      "execution_count": null,
      "outputs": [
        {
          "output_type": "stream",
          "name": "stdout",
          "text": [
            "13020\n"
          ]
        }
      ]
    },
    {
      "cell_type": "code",
      "source": [
        "for i in range(1,11):\n",
        "    print(i*i)"
      ],
      "metadata": {
        "colab": {
          "base_uri": "https://localhost:8080/"
        },
        "id": "HV0i7Qdlhk3Z",
        "outputId": "ee0d3e4c-e8b9-4c90-d09f-ccdd36db1d7b"
      },
      "execution_count": null,
      "outputs": [
        {
          "output_type": "stream",
          "name": "stdout",
          "text": [
            "1\n",
            "4\n",
            "9\n",
            "16\n",
            "25\n",
            "36\n",
            "49\n",
            "64\n",
            "81\n",
            "100\n"
          ]
        }
      ]
    }
  ]
}